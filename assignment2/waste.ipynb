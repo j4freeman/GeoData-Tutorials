{
 "cells": [
  {
   "cell_type": "code",
   "execution_count": 1,
   "metadata": {},
   "outputs": [],
   "source": [
    "import numpy as np\n",
    "import matplotlib.pyplot as plt\n",
    "from ipywidgets import interact, widgets, fixed, Layout\n",
    "import matplotlib.colors as mcolors"
   ]
  },
  {
   "cell_type": "code",
   "execution_count": 2,
   "metadata": {},
   "outputs": [],
   "source": [
    "# read in the input rasters\n",
    "# would be way easier to do this in numpy or gdal\n",
    "# but for sake of completeness, the method in the lecture\n",
    "\n",
    "def load_raster(file_name):\n",
    "    raster_list = []\n",
    "    with open(file_name) as f:\n",
    "        for line in f:\n",
    "            split = str.split(line, \",\")\n",
    "            data = []\n",
    "            for num in split:\n",
    "                data.append(float(num))\n",
    "            raster_list.append(data)\n",
    "    return np.array(raster_list)\n",
    "\n",
    "mway = load_raster(\"best.mway.txt\")\n",
    "pop = load_raster(\"best.pop.txt\")\n",
    "geo = load_raster(\"best.geology.txt\")"
   ]
  },
  {
   "cell_type": "code",
   "execution_count": 7,
   "metadata": {},
   "outputs": [
    {
     "data": {
      "application/vnd.jupyter.widget-view+json": {
       "model_id": "c58bd09f9a554d4e82378868ebff3990",
       "version_major": 2,
       "version_minor": 0
      },
      "text/plain": [
       "interactive(children=(FloatSlider(value=1.0, description='Geological Weight:', max=10.0, min=0.1, style=Slider…"
      ]
     },
     "metadata": {},
     "output_type": "display_data"
    },
    {
     "data": {
      "text/plain": [
       "<function __main__.mergerize(geo=None, pop=None, mway=None, geo_dim=None, pop_dim=None, mway_dim=None, top_percentile=None, export=None)>"
      ]
     },
     "execution_count": 7,
     "metadata": {},
     "output_type": "execute_result"
    }
   ],
   "source": [
    "# initialie the jupyter widgets, keep the min to 0.1 so the function doesn't error out\n",
    "geo_dim = widgets.FloatSlider(min=0.1,max=10,value=1, step=0.1,description=\"Geological Weight:\",style={'description_width': 'initial'})\n",
    "pop_dim = widgets.FloatSlider(min=0.1,max=10,value=1, step=0.1,description=\"Population Weight:\",style={'description_width': 'initial'})\n",
    "mway_dim = widgets.FloatSlider(min=0.1,max=10,value=1, step=0.1,description=\"Motorway Weight: \",style={'description_width': 'initial'})\n",
    "top_percentile = widgets.Checkbox(value=False, description=\"Highlight Top 10%\")\n",
    "export = widgets.ToggleButton(value=False, description=\"Export to File\")\n",
    "\n",
    "def mergerize(geo=None, pop=None, mway=None, geo_dim=None, pop_dim=None, mway_dim=None, top_percentile=None, export=None):\n",
    "    \"\"\"Main function handling rendering: merges the weighted matrices, handles colormaps and exporting as needed\"\"\"\n",
    "    total = geo * geo_dim + pop * pop_dim + mway * mway_dim\n",
    "    if total.max() > 0: # can never be zero due to the slider settings, but good to chekc\n",
    "        total /= total.max()\n",
    "        total *= 255\n",
    "\n",
    "    if export:\n",
    "        with open('waste_export.txt', 'wb') as f:\n",
    "            # way more efficient than manually looping over each value in the array\n",
    "            np.savetxt(f, total, delimiter=',', fmt='%1i')\n",
    "\n",
    "    # construct the gray -> blue colormap\n",
    "    gray_90 = plt.get_cmap('binary')(np.linspace(0, 0.9, 1000))\n",
    "    blue_10 = plt.get_cmap('viridis_r')(np.linspace(0.6, 1, 1000))\n",
    "\n",
    "    colors = np.concatenate([gray_90, blue_10])\n",
    "    blue_max = mcolors.LinearSegmentedColormap.from_list('blue_max', colors)\n",
    "\n",
    "    if top_percentile:\n",
    "        # normalize the colormap about the 90th percentile of our data (excluding the ocean pixels where the value is zero)\n",
    "        # since our colormap is half gray half blue, this sets the midpoint (boundary between the two maps) to that same\n",
    "        # 90th percentile\n",
    "\n",
    "        # in cases where there all values are the same, or the 90th percentile is 255, need to adjust so the norm doesn't break\n",
    "        # there may be an edge case where this breaks but I'm 99% sure that shouldn't happen with the provided datasets\n",
    "        perc_90 = np.percentile(np.ravel(total)[np.flatnonzero(total)], 90)\n",
    "        if perc_90 <= 0:\n",
    "            perc_90 = 1e-4\n",
    "        while perc_90 >= 255:\n",
    "            perc_90 = 255 - 1e-4\n",
    "        divnorm = mcolors.TwoSlopeNorm(vmin=0., vcenter=perc_90, vmax=255.) # center the cmap about the 90th percentile\n",
    "\n",
    "        # colormesh is the same as imshow but better supports normalization\n",
    "        pcm = plt.pcolormesh(total, norm=divnorm, cmap=blue_max)\n",
    "    else:\n",
    "        pcm = plt.pcolormesh(total, cmap='binary')\n",
    "    \n",
    "    plt.gca().invert_yaxis() # colormesh doesn't understand raster layouts by default, have to invert\n",
    "    plt.colorbar(pcm, shrink=0.6, extend='neither', label='Suitability')\n",
    "\n",
    "    return pcm\n",
    "\n",
    "\n",
    "interact(mergerize, geo=fixed(geo), pop=fixed(pop), mway=fixed(mway), geo_dim=geo_dim,\n",
    "pop_dim=pop_dim,\n",
    "mway_dim=mway_dim,\n",
    "top_percentile=top_percentile,\n",
    "export=export)"
   ]
  },
  {
   "cell_type": "code",
   "execution_count": 5,
   "metadata": {},
   "outputs": [
    {
     "data": {
      "text/plain": [
       "<matplotlib.image.AxesImage at 0x7f53428e0c50>"
      ]
     },
     "execution_count": 5,
     "metadata": {},
     "output_type": "execute_result"
    },
    {
     "data": {
      "image/png": "[encoded data removed]",
      "text/plain": [
       "<Figure size 432x288 with 1 Axes>"
      ]
     },
     "metadata": {
      "needs_background": "light"
     },
     "output_type": "display_data"
    }
   ],
   "source": [
    "# sanity check cell, used to verify the same 10th percentiles are actually showing up\n",
    "# (this is also mainly how I tested)\n",
    "\n",
    "total = geo * 1 + pop * 1 + mway * 1\n",
    "total /= total.max()\n",
    "total *= 255\n",
    "\n",
    "top_perc = np.where(total > np.percentile(np.ravel(total)[np.flatnonzero(total)], 90),1,0)\n",
    "plt.imshow(top_perc, interpolation='none')"
   ]
  },
  {
   "cell_type": "code",
   "execution_count": null,
   "metadata": {},
   "outputs": [],
   "source": []
  }
 ],
 "metadata": {
  "kernelspec": {
   "display_name": "Python 3 (ipykernel)",
   "language": "python",
   "name": "python3"
  },
  "language_info": {
   "codemirror_mode": {
    "name": "ipython",
    "version": 3
   },
   "file_extension": ".py",
   "mimetype": "text/x-python",
   "name": "python",
   "nbconvert_exporter": "python",
   "pygments_lexer": "ipython3",
   "version": "3.6.13"
  },
  "vscode": {
   "interpreter": {
    "hash": "916dbcbb3f70747c44a77c7bcd40155683ae19c65e1c03b4aa3499c5328201f1"
   }
  }
 },
 "nbformat": 4,
 "nbformat_minor": 2
}
